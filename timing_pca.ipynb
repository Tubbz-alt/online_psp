{
 "cells": [
  {
   "cell_type": "code",
   "execution_count": 1,
   "metadata": {},
   "outputs": [],
   "source": [
    "# imports\n",
    "import numpy as np\n",
    "from matplotlib import pyplot as plt\n",
    "from scipy.linalg import solve as solve\n",
    "import util\n",
    "\n",
    "from minimax_subspace_projection import minimax_PCA as minimax_PCA\n",
    "from if_minimax_subspace_projection import if_minimax_PCA as if_minimax_PCA\n",
    "from ccipca import CCIPCA as CCIPCA\n",
    "from incremental_pca import incremental_PCA as incremental_PCA\n",
    "from stochastic_gradient_pca import SGA_PCA as SGA_PCA"
   ]
  },
  {
   "cell_type": "code",
   "execution_count": 2,
   "metadata": {},
   "outputs": [],
   "source": [
    "# Parameters\n",
    "n       = 2000\n",
    "d       = 100\n",
    "q       = 3    \n",
    "n_epoch = 10\n",
    "tau     = 0.5\n",
    "\n",
    "X     = np.random.normal(0,1,(d,n))\n",
    "# Note: Numpy SVD returns V transpose\n",
    "U,s,Vt = np.linalg.svd(X, full_matrices=False)\n",
    "\n",
    "s = np.concatenate( ([np.sqrt(np.sqrt(i+1)) for i in range(q)], 1e-1*np.random.random(d-q)))\n",
    "D = np.diag(np.sqrt(n) * s )\n",
    "\n",
    "X = np.dot(U, np.dot(D, Vt))\n"
   ]
  },
  {
   "cell_type": "code",
   "execution_count": 3,
   "metadata": {},
   "outputs": [
    {
     "name": "stdout",
     "output_type": "stream",
     "text": [
      "The initial error was 1.416379 and the final error was 0.002583.\n",
      "The initial error was 1.523456 and the final error was 0.002879.\n",
      "The initial error was 3.494036 and the final error was 0.004743.\n",
      "The initial error was 1.375035 and the final error was 0.004477.\n",
      "The initial error was 1.439623 and the final error was 0.188921.\n"
     ]
    }
   ],
   "source": [
    "# Check errors\n",
    "M,W,errs = minimax_PCA(X, q, tau, n_epoch, U=U[:,:q])\n",
    "print('The initial error was %f and the final error was %f.' %(errs[0],errs[-1]))\n",
    "    \n",
    "Minv,W,errs = if_minimax_PCA(X, q, tau, n_epoch, U=U[:,:q])\n",
    "print('The initial error was %f and the final error was %f.' %(errs[0],errs[-1]))\n",
    "\n",
    "Uhat,errs = CCIPCA(X, q, n_epoch, U=U[:,:q])\n",
    "print('The initial error was %f and the final error was %f.' %(errs[0],errs[-1]))\n",
    "\n",
    "Uhat,errs = incremental_PCA(X, q, n_epoch, U=U[:,:q])\n",
    "print('The initial error was %f and the final error was %f.' %(errs[0],errs[-1]))\n",
    "\n",
    "Uhat,errs = SGA_PCA(X, q, n_epoch, U=U[:,:q])\n",
    "print('The initial error was %f and the final error was %f.' %(errs[0],errs[-1]))"
   ]
  },
  {
   "cell_type": "code",
   "execution_count": 35,
   "metadata": {},
   "outputs": [
    {
     "name": "stdout",
     "output_type": "stream",
     "text": [
      "1 loop, best of 5: 1.89 s per loop\n"
     ]
    }
   ],
   "source": [
    "M0 = np.eye(q)\n",
    "W0 = np.random.normal(0, 1.0/np.sqrt(d), size=(q,d))\n",
    "%timeit -r5 M,W  = minimax_PCA(X, q, tau, n_epoch, M0=M0, W0=W0)\n",
    "# Uhat = solve(M,W).T\n",
    "# print('The final error was %f.' % util.subspace_error(Uhat, U[:,:q]))\n",
    "\n"
   ]
  },
  {
   "cell_type": "code",
   "execution_count": 36,
   "metadata": {},
   "outputs": [
    {
     "name": "stdout",
     "output_type": "stream",
     "text": [
      "1 loop, best of 5: 590 ms per loop\n"
     ]
    }
   ],
   "source": [
    "Minv0 = np.eye(q)\n",
    "W0 = np.random.normal(0, 1.0/np.sqrt(d), size=(q,d))\n",
    "%timeit -r5 Minv,W = if_minimax_PCA(X, q, tau, n_epoch, Minv0=Minv0, W0=W0)\n",
    "# Uhat   = Minv.dot(W).T\n",
    "# print('The final error was %f.' % util.subspace_error(Uhat, U[:,:q]))"
   ]
  },
  {
   "cell_type": "code",
   "execution_count": 37,
   "metadata": {},
   "outputs": [
    {
     "name": "stdout",
     "output_type": "stream",
     "text": [
      "1 loop, best of 5: 4.48 s per loop\n"
     ]
    }
   ],
   "source": [
    "Uhat0 = X[:,:q].copy()\n",
    "%timeit -r5 Uhat = CCIPCA(X, q, n_epoch, Uhat0=Uhat0)\n",
    "# print('The final error was %f.' % util.subspace_error(Uhat, U[:,:q]))"
   ]
  },
  {
   "cell_type": "code",
   "execution_count": 38,
   "metadata": {},
   "outputs": [
    {
     "name": "stdout",
     "output_type": "stream",
     "text": [
      "1 loop, best of 5: 3.43 s per loop\n"
     ]
    }
   ],
   "source": [
    "Uhat0 = np.eye(d,q)\n",
    "%timeit -r5 Uhat = incremental_PCA(X, q, n_epoch, Uhat0=Uhat0)\n",
    "# print('The final error was %f.' % util.subspace_error(Uhat, U[:,:q]))"
   ]
  },
  {
   "cell_type": "code",
   "execution_count": 39,
   "metadata": {},
   "outputs": [
    {
     "name": "stdout",
     "output_type": "stream",
     "text": [
      "1 loop, best of 5: 605 ms per loop\n"
     ]
    }
   ],
   "source": [
    "Uhat0 = np.random.normal(0, 1.0/np.sqrt(d), size=(d,q))\n",
    "%timeit -r5 Uhat = SGA_PCA(X, q, n_epoch, Uhat0=Uhat0)\n",
    "# print('The final error was %f.' % util.subspace_error(Uhat, U[:,:q]))"
   ]
  },
  {
   "cell_type": "code",
   "execution_count": 15,
   "metadata": {},
   "outputs": [],
   "source": [
    "# plt.plot(errs)\n",
    "# plt.show()\n"
   ]
  },
  {
   "cell_type": "code",
   "execution_count": null,
   "metadata": {
    "collapsed": true
   },
   "outputs": [],
   "source": []
  }
 ],
 "metadata": {
  "kernelspec": {
   "display_name": "Python 3",
   "language": "python",
   "name": "python3"
  },
  "language_info": {
   "codemirror_mode": {
    "name": "ipython",
    "version": 3
   },
   "file_extension": ".py",
   "mimetype": "text/x-python",
   "name": "python",
   "nbconvert_exporter": "python",
   "pygments_lexer": "ipython3",
   "version": "3.6.1"
  }
 },
 "nbformat": 4,
 "nbformat_minor": 2
}
